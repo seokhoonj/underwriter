{
 "cells": [
  {
   "cell_type": "markdown",
   "metadata": {},
   "source": [
    "# ICIS Claim Data Processing Tutorial"
   ]
  },
  {
   "cell_type": "markdown",
   "metadata": {},
   "source": [
    "## Step-by-Step Guide for ICIS Claim Data Processing"
   ]
  },
  {
   "cell_type": "markdown",
   "metadata": {},
   "source": [
    "**Author**: Seokhoon Joo  "
   ]
  },
  {
   "cell_type": "markdown",
   "metadata": {},
   "source": [
    "## Table of Contents\n",
    "* [1. Setup and Data Loading](#1.-Setup-and-Data-Loading)\n",
    "    * [1.1 Import Required Libraries](#1.1-Import-Required-Libraries)\n",
    "    * [1.2 Load ICIS Claim Data](#1.2-Load-ICIS-Claim-Data)\n",
    "    * [1.3 Load Main Disease Classification Data](#1.3-Load-Main-Disease-Classification-Data)\n",
    "    * [1.4 Initialize ICIS Processor](#1.4-Initialize-ICIS-Processor)\n",
    "* [2. Step-by-Step Processing](#2.-Step-by-Step-Processing)\n",
    "    * [2.1 Data Validation](#2.1-Data-Validation)\n",
    "    * [2.2 Data Cleansing](#2.2-Data-Cleansing)\n",
    "    * [2.3 Data Preparation](#2.3-Data-Preparation)\n",
    "    * [2.4 Data Calculations](#2.4-Data-Calculations)\n",
    "    * [2.5 Merge Calculated Data](#2.5-Merge-Calculated-Data)\n",
    "* [3. Complete Pipeline Processing](#3.-Complete-Pipeline-Processing)\n",
    "    * [3.1 Pipeline Execution](#3.1-Pipeline-Execution)\n",
    "    * [3.2 Results Validation](#3.2-Results-Validation)\n",
    "    * [Appendix: Error Handling](#Appendix:-Error-Handling)"
   ]
  },
  {
   "cell_type": "markdown",
   "metadata": {},
   "source": [
    "## 1. Setup and Data Loading"
   ]
  },
  {
   "cell_type": "markdown",
   "metadata": {},
   "source": [
    "### 1.1 Import Required Libraries"
   ]
  },
  {
   "cell_type": "code",
   "execution_count": 1,
   "metadata": {},
   "outputs": [],
   "source": [
    "import pandas as pd\n",
    "from underwriter.icis import ICIS"
   ]
  },
  {
   "cell_type": "markdown",
   "metadata": {},
   "source": [
    "### 1.2 Load ICIS Claim Data"
   ]
  },
  {
   "cell_type": "code",
   "execution_count": null,
   "metadata": {},
   "outputs": [],
   "source": [
    "claim = pd.read_csv('data/claim.csv')\n",
    "print(\"Initial claim data:\")\n",
    "print(\"Shape:\", claim.shape)\n",
    "print(\"\\nColumns:\", claim.columns.tolist())\n",
    "print(\"\\nFirst few rows:\")\n",
    "display(claim.head())"
   ]
  },
  {
   "cell_type": "markdown",
   "metadata": {},
   "source": [
    "### 1.3 Load Main Disease Classification Data"
   ]
  },
  {
   "cell_type": "code",
   "execution_count": null,
   "metadata": {},
   "outputs": [],
   "source": [
    "main = pd.read_csv('data/main.csv')\n",
    "print(\"\\nMain disease classification data:\")\n",
    "print(\"Shape:\", main.shape)\n",
    "print(\"\\nColumns:\", main.columns.tolist())\n",
    "print(\"\\nFirst few rows:\")\n",
    "display(main.head())"
   ]
  },
  {
   "cell_type": "markdown",
   "metadata": {},
   "source": [
    "### 1.4 Initialize ICIS Processor"
   ]
  },
  {
   "cell_type": "code",
   "execution_count": 4,
   "metadata": {},
   "outputs": [],
   "source": [
    "icis = ICIS(claim=claim, main=main)"
   ]
  },
  {
   "cell_type": "markdown",
   "metadata": {},
   "source": [
    "## 2. Step-by-Step Processing"
   ]
  },
  {
   "cell_type": "markdown",
   "metadata": {},
   "source": [
    "### 2.1 Data Validation"
   ]
  },
  {
   "cell_type": "code",
   "execution_count": null,
   "metadata": {},
   "outputs": [],
   "source": [
    "print(\"\\n2.1 Data Validation\")\n",
    "print(\"-----------------\")\n",
    "try:\n",
    "    icis.validate_columns()\n",
    "    print(\"✓ Column validation successful\")\n",
    "except ValueError as e:\n",
    "    print(f\"✗ Validation error: {e}\")"
   ]
  },
  {
   "cell_type": "markdown",
   "metadata": {},
   "source": [
    "### 2.2 Data Cleansing"
   ]
  },
  {
   "cell_type": "code",
   "execution_count": null,
   "metadata": {},
   "outputs": [],
   "source": [
    "print(\"\\n2.2 Data Cleansing\")\n",
    "print(\"----------------\")\n",
    "\n",
    "print(\"• Initial claim data shape:\", icis.claim.shape)\n",
    "display(icis.claim.head())\n",
    "\n",
    "print(\"\\n1) Removing duplicates...\")\n",
    "icis.drop_duplicates()\n",
    "print(\"• Shape after deduplication:\", icis.claim.shape)\n",
    "display(icis.claim.head())\n",
    "\n",
    "print(\"\\n2) Forward filling KCD codes...\")\n",
    "icis.fill_kcd_forward()\n",
    "print(\"• Shape after forward fill:\", icis.filled.shape)\n",
    "display(icis.filled.head())\n",
    "\n",
    "print(\"\\n3) Filtering by claim date...\")\n",
    "icis.filter_by_clm_date()\n",
    "print(\"• Shape after date filtering:\", icis.filled.shape)\n",
    "display(icis.filled.head())"
   ]
  },
  {
   "cell_type": "markdown",
   "metadata": {},
   "source": [
    "### 2.3 Data Preparation"
   ]
  },
  {
   "cell_type": "code",
   "execution_count": null,
   "metadata": {},
   "outputs": [],
   "source": [
    "print(\"\\n2.3 Data Preparation\")\n",
    "print(\"------------------\")\n",
    "\n",
    "print(\"1) Setting medical care types...\")\n",
    "icis.set_type()\n",
    "print(\"• Data with medical care types:\")\n",
    "display(icis.filled[['id', 'clm_date', 'type']].head())\n",
    "\n",
    "print(\"\\n2) Modifying hospital end dates...\")\n",
    "icis.set_hos_edate_mod()\n",
    "print(\"• Data with modified hospital end dates:\")\n",
    "display(icis.filled[['id', 'hos_edate', 'hos_edate_mod']].head())\n",
    "\n",
    "print(\"\\n3) Converting to long format...\")\n",
    "icis.melt()\n",
    "print(\"• Melted data shape:\", icis.melted.shape)\n",
    "display(icis.melted.head())\n",
    "\n",
    "print(\"\\n4) Processing KCD information...\")\n",
    "icis.set_sub_kcd()\n",
    "icis.merge_main_info()\n",
    "icis.filter_sub_kcd()\n",
    "print(\"• Shape after KCD processing:\", icis.melted.shape)\n",
    "display(icis.melted.head())"
   ]
  },
  {
   "cell_type": "markdown",
   "metadata": {},
   "source": [
    "### 2.4 Data Calculations"
   ]
  },
  {
   "cell_type": "code",
   "execution_count": null,
   "metadata": {},
   "outputs": [],
   "source": [
    "print(\"\\n2.4 Data Calculations\")\n",
    "print(\"------------------\")\n",
    "\n",
    "print(\"1) Setting date ranges...\")\n",
    "icis.set_date_range()\n",
    "\n",
    "print(\"\\n2) Calculating hospitalization days...\")\n",
    "icis.calc_hos_day()\n",
    "print(\"• Hospitalized data shape:\", icis.hospitalized.shape)\n",
    "display(icis.hospitalized.head())\n",
    "\n",
    "print(\"\\n3) Calculating surgery counts...\")\n",
    "icis.calc_sur_cnt()\n",
    "print(\"• Surgery data shape:\", icis.underwent.shape)\n",
    "display(icis.underwent.head())\n",
    "\n",
    "print(\"\\n4) Calculating elapsed days...\")\n",
    "icis.calc_elp_day()\n",
    "print(\"• Elapsed days data shape:\", icis.elapsed.shape)\n",
    "display(icis.elapsed.head())"
   ]
  },
  {
   "cell_type": "markdown",
   "metadata": {},
   "source": [
    "### 2.5 Merge Calculated Data"
   ]
  },
  {
   "cell_type": "code",
   "execution_count": null,
   "metadata": {},
   "outputs": [],
   "source": [
    "print(\"\\n2.5 Final Merge\")\n",
    "print(\"-------------\")\n",
    "step_result = icis.merge_calculated()\n",
    "print(\"• Final result shape:\", step_result.shape)\n",
    "print(\"• Final columns:\", step_result.columns.tolist())\n",
    "display(step_result.head())"
   ]
  },
  {
   "cell_type": "markdown",
   "metadata": {},
   "source": [
    "## 3. Complete Pipeline Processing"
   ]
  },
  {
   "cell_type": "markdown",
   "metadata": {},
   "source": [
    "### 3.1 Pipeline Execution"
   ]
  },
  {
   "cell_type": "code",
   "execution_count": null,
   "metadata": {},
   "outputs": [],
   "source": [
    "print(\"\\n3.1 Pipeline Execution\")\n",
    "print(\"--------------------\")\n",
    "\n",
    "# Initialize new ICIS instance\n",
    "icis_pipeline = ICIS(claim=claim, main=main)\n",
    "\n",
    "# Process ICIS claim data using complete pipeline\n",
    "print(\"Processing ICIS claim data using icis.process()...\")\n",
    "pipeline_result = icis_pipeline.process()\n",
    "print(\"\\n✓ Processing completed successfully!\")\n",
    "print(\"• Final result shape:\", pipeline_result.shape)"
   ]
  },
  {
   "cell_type": "markdown",
   "metadata": {},
   "source": [
    "### 3.2 Results Comparison"
   ]
  },
  {
   "cell_type": "code",
   "execution_count": null,
   "metadata": {},
   "outputs": [],
   "source": [
    "print(\"\\n3.2 Results Validation\")\n",
    "print(\"--------------------\")\n",
    "# Compare results\n",
    "print(\"\\nResults Comparison:\")\n",
    "print(\"• Step-by-step shape:\", step_result.shape)\n",
    "print(\"• Pipeline shape:\", pipeline_result.shape)\n",
    "\n",
    "are_equal = step_result.equals(pipeline_result)\n",
    "print(f\"\\n✓ Results are identical: {are_equal}\")\n",
    "\n",
    "if not are_equal:\n",
    "    print(\"\\nDifferences in columns:\")\n",
    "    print(set(step_result.columns) ^ set(pipeline_result.columns))"
   ]
  },
  {
   "cell_type": "markdown",
   "metadata": {},
   "source": [
    "### Appendix: Error Handling"
   ]
  },
  {
   "cell_type": "code",
   "execution_count": null,
   "metadata": {},
   "outputs": [],
   "source": [
    "print(\"\\nAppendix: Error Handling\")\n",
    "print(\"----------------\")\n",
    "# Example of error handling with invalid data\n",
    "print(\"Testing error handling with invalid input...\")\n",
    "\n",
    "try:\n",
    "    # Create invalid data for testing\n",
    "    invalid_claim = claim.drop(columns=['id'])\n",
    "    invalid_icis = ICIS(claim=invalid_claim, main=main)\n",
    "    invalid_result = invalid_icis.process()\n",
    "except ValueError as e:\n",
    "    print(f\"\\n✓ Validation error caught successfully: {e}\")\n",
    "except RuntimeError as e:\n",
    "    print(f\"\\n✓ Processing error caught successfully: {e}\")\n",
    "except Exception as e:\n",
    "    print(f\"\\n✓ Unexpected error caught successfully: {e}\")"
   ]
  }
 ],
 "metadata": {
  "kernelspec": {
   "display_name": "Python 3 (ipykernel)",
   "language": "python",
   "name": "python3"
  },
  "language_info": {
   "codemirror_mode": {
    "name": "ipython",
    "version": 3
   },
   "file_extension": ".py",
   "mimetype": "text/x-python",
   "name": "python",
   "nbconvert_exporter": "python",
   "pygments_lexer": "ipython3",
   "version": "3.9.19"
  }
 },
 "nbformat": 4,
 "nbformat_minor": 2
}
